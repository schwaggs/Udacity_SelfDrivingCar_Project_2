{
 "cells": [
  {
   "cell_type": "markdown",
   "metadata": {},
   "source": [
    "## Camera Calibration"
   ]
  },
  {
   "cell_type": "markdown",
   "metadata": {},
   "source": [
    "### Finding calibration matrix and distortion coefficients"
   ]
  },
  {
   "cell_type": "markdown",
   "metadata": {},
   "source": [
    ">This section defines functions for finding the calibration matrix and distortion coefficients of given calibration images in the ```camera_cal``` directory."
   ]
  },
  {
   "cell_type": "code",
   "execution_count": 1,
   "metadata": {},
   "outputs": [],
   "source": [
    "def Points(images, horizontal, vertical):\n",
    "    \n",
    "    # prepare object points, like (0,0,0), (1,0,0), (2,0,0) ....,(6,5,0)\n",
    "    objp = np.zeros((vertical * horizontal, 3), np.float32)\n",
    "    objp[:,:2] = np.mgrid[0:horizontal, 0:vertical].T.reshape(-1,2)\n",
    "\n",
    "    # Arrays to store object points and image points from all the images.\n",
    "    objpoints = [] # 3d points in real world space\n",
    "    imgpoints = [] # 2d points in image plane.\n",
    "\n",
    "    img_size = None\n",
    "    \n",
    "    for fname in images:\n",
    "        \n",
    "        # Get images\n",
    "        img = cv2.imread(fname)\n",
    "        gray = cv2.cvtColor(img,cv2.COLOR_BGR2GRAY)\n",
    "        img_size = (img.shape[1], img.shape[0])\n",
    "\n",
    "        # Find the chessboard corners\n",
    "        ret, corners = cv2.findChessboardCorners(gray, (horizontal, vertical), None)\n",
    "\n",
    "        # If found, add object points, image points\n",
    "        if ret == True:\n",
    "            objpoints.append(objp)\n",
    "            imgpoints.append(corners)\n",
    "\n",
    "    return img_size, objpoints, imgpoints\n",
    "    \n"
   ]
  },
  {
   "cell_type": "markdown",
   "metadata": {},
   "source": [
    "***"
   ]
  },
  {
   "cell_type": "markdown",
   "metadata": {},
   "source": [
    "### Undistortion"
   ]
  },
  {
   "cell_type": "markdown",
   "metadata": {},
   "source": [
    ">This section defines functions for undistorting an image based on the calibration discovered in the previous section."
   ]
  },
  {
   "cell_type": "code",
   "execution_count": 2,
   "metadata": {},
   "outputs": [],
   "source": [
    "def Get_Matrix(images, horizontal, vertical):\n",
    "    \n",
    "    img_size, objpoints, imgpoints = Points(images, horizontal, vertical)\n",
    "    ret, mtx, dist, rvecs, tvecs = cv2.calibrateCamera(objpoints, imgpoints, img_size, None, None)\n",
    "    \n",
    "    return ret, mtx, dist"
   ]
  },
  {
   "cell_type": "code",
   "execution_count": 3,
   "metadata": {},
   "outputs": [],
   "source": [
    "def Undistort(test_images, cal_images, horizontal, vertical):\n",
    "    \n",
    "    undistorted = []\n",
    "    \n",
    "    ret, mtx, dist = Get_Matrix(cal_images, horizontal, vertical)\n",
    "    \n",
    "    for fname in test_images:\n",
    "    \n",
    "        img = cv2.cvtColor(cv2.imread(fname), cv2.COLOR_BGR2RGB)\n",
    "        dst = cv2.undistort(img, mtx, dist, None, mtx)\n",
    "\n",
    "        undistorted.append(dst)\n",
    "        \n",
    "    return undistorted\n",
    "        "
   ]
  },
  {
   "cell_type": "markdown",
   "metadata": {},
   "source": [
    "***"
   ]
  },
  {
   "cell_type": "markdown",
   "metadata": {},
   "source": [
    "## Manipulation"
   ]
  },
  {
   "cell_type": "markdown",
   "metadata": {},
   "source": [
    "### Apply color and gradient thresholds"
   ]
  },
  {
   "cell_type": "markdown",
   "metadata": {},
   "source": [
    ">This section defines functions for applying color and gradient thresholds to an undistorted image to find the lane lines."
   ]
  },
  {
   "cell_type": "code",
   "execution_count": null,
   "metadata": {},
   "outputs": [],
   "source": []
  },
  {
   "cell_type": "markdown",
   "metadata": {},
   "source": [
    "***"
   ]
  },
  {
   "cell_type": "markdown",
   "metadata": {},
   "source": [
    "### Birds-eye view perspective transform"
   ]
  },
  {
   "cell_type": "markdown",
   "metadata": {},
   "source": [
    ">This section defines functions for transforming the perspective of an image to birds-eye."
   ]
  },
  {
   "cell_type": "code",
   "execution_count": null,
   "metadata": {},
   "outputs": [],
   "source": []
  },
  {
   "cell_type": "markdown",
   "metadata": {},
   "source": [
    "***"
   ]
  },
  {
   "cell_type": "markdown",
   "metadata": {},
   "source": [
    "## Find lane line pixels"
   ]
  },
  {
   "cell_type": "markdown",
   "metadata": {},
   "source": [
    "### Sliding windows"
   ]
  },
  {
   "cell_type": "markdown",
   "metadata": {},
   "source": [
    ">In this section the sliding window method of lane pixel detection is implemented."
   ]
  },
  {
   "cell_type": "code",
   "execution_count": null,
   "metadata": {},
   "outputs": [],
   "source": []
  },
  {
   "cell_type": "markdown",
   "metadata": {},
   "source": [
    "***"
   ]
  },
  {
   "cell_type": "markdown",
   "metadata": {},
   "source": [
    "### Search from prior"
   ]
  },
  {
   "cell_type": "markdown",
   "metadata": {},
   "source": [
    ">In this section the search from prior method of lane pixel detection is implemented."
   ]
  },
  {
   "cell_type": "code",
   "execution_count": null,
   "metadata": {},
   "outputs": [],
   "source": []
  },
  {
   "cell_type": "markdown",
   "metadata": {},
   "source": [
    "***"
   ]
  },
  {
   "cell_type": "markdown",
   "metadata": {},
   "source": [
    "### Convolution"
   ]
  },
  {
   "cell_type": "markdown",
   "metadata": {},
   "source": [
    ">In this section the convolution method of lane pixel detection is implemented."
   ]
  },
  {
   "cell_type": "code",
   "execution_count": null,
   "metadata": {},
   "outputs": [],
   "source": []
  },
  {
   "cell_type": "markdown",
   "metadata": {},
   "source": [
    "***"
   ]
  },
  {
   "cell_type": "markdown",
   "metadata": {},
   "source": [
    "## Polynomial Fitting"
   ]
  },
  {
   "cell_type": "markdown",
   "metadata": {},
   "source": [
    "### Fit 2nd degree polynomial to left and right lane lines"
   ]
  },
  {
   "cell_type": "markdown",
   "metadata": {},
   "source": [
    ">This section defines functions for fitting a second order polynomial to the lane pixels for left and right lanes discovered from the previous section."
   ]
  },
  {
   "cell_type": "code",
   "execution_count": null,
   "metadata": {},
   "outputs": [],
   "source": []
  },
  {
   "cell_type": "markdown",
   "metadata": {},
   "source": [
    "***"
   ]
  },
  {
   "cell_type": "markdown",
   "metadata": {},
   "source": [
    "## Lane Curvature"
   ]
  },
  {
   "cell_type": "markdown",
   "metadata": {},
   "source": [
    "### Curvature"
   ]
  },
  {
   "cell_type": "markdown",
   "metadata": {},
   "source": [
    ">**This is a description**"
   ]
  },
  {
   "cell_type": "code",
   "execution_count": null,
   "metadata": {},
   "outputs": [],
   "source": []
  },
  {
   "cell_type": "markdown",
   "metadata": {},
   "source": [
    "***"
   ]
  },
  {
   "cell_type": "markdown",
   "metadata": {},
   "source": [
    "### Center deviation"
   ]
  },
  {
   "cell_type": "markdown",
   "metadata": {},
   "source": [
    ">**This is a description**"
   ]
  },
  {
   "cell_type": "code",
   "execution_count": null,
   "metadata": {},
   "outputs": [],
   "source": []
  },
  {
   "cell_type": "markdown",
   "metadata": {},
   "source": [
    "***"
   ]
  },
  {
   "cell_type": "markdown",
   "metadata": {},
   "source": [
    "## Lane Boundary Annotation"
   ]
  },
  {
   "cell_type": "markdown",
   "metadata": {},
   "source": [
    "### Annotate lane boundaries"
   ]
  },
  {
   "cell_type": "markdown",
   "metadata": {},
   "source": [
    ">**This is a description**"
   ]
  },
  {
   "cell_type": "code",
   "execution_count": null,
   "metadata": {},
   "outputs": [],
   "source": []
  },
  {
   "cell_type": "markdown",
   "metadata": {},
   "source": [
    "***"
   ]
  },
  {
   "cell_type": "markdown",
   "metadata": {},
   "source": [
    "## Helpers"
   ]
  },
  {
   "cell_type": "markdown",
   "metadata": {},
   "source": [
    ">This section defines helper functions for various needs"
   ]
  },
  {
   "cell_type": "code",
   "execution_count": 4,
   "metadata": {},
   "outputs": [],
   "source": [
    "def GetImagesOS(rootDir, validExtensions):\n",
    "    \n",
    "    '''\n",
    "    Description: Finds all image files in the rootDir with valid extensions and returns the following dictionaries:\n",
    "                 paths - {Image filename without extension, Full path to image}\n",
    "                 extensions - {Image filename without extension, Image extension}\n",
    "                 imgs - {Image filename without extension, matplotlib.image object of the image}\n",
    "    '''\n",
    "    \n",
    "    paths = {}\n",
    "    extensions = {}\n",
    "    imgs = {}\n",
    "    indexes = []\n",
    "    \n",
    "    if(rootDir == ''):\n",
    "        files = os.listdir(\".\")\n",
    "    else:\n",
    "        files = os.listdir(rootDir)\n",
    "    \n",
    "    for file in files:\n",
    "        \n",
    "        if(rootDir == ''):\n",
    "            \n",
    "            if(os.path.isfile(\".\\\\\" + file)):\n",
    "                \n",
    "                ext = file[-3:]\n",
    "                \n",
    "                if ext in validExtensions:\n",
    "                    \n",
    "                    filename = file[:len(file)-4]\n",
    "                    indexes.append(filename)\n",
    "                    paths[filename] = \".\\\\\" + file\n",
    "                    extensions[filename] = ext\n",
    "                    imgs[filename] = mpimg.imread(\".\\\\\" + file)\n",
    "            \n",
    "        else:\n",
    "            \n",
    "            if os.path.isfile(rootDir + '\\\\' + file):\n",
    "                \n",
    "                ext = file[-3:]\n",
    "                \n",
    "                if ext in validExtensions:\n",
    "                    \n",
    "                    filename = file[:len(file)-4]\n",
    "                    \n",
    "                    paths[filename] = rootDir + \"\\\\\" + file\n",
    "                    extensions[filename] = ext\n",
    "                    imgs[filename] = mpimg.imread(rootDir + \"\\\\\" + file)\n",
    "                    \n",
    "    return indexes, paths, extensions, imgs"
   ]
  },
  {
   "cell_type": "code",
   "execution_count": 5,
   "metadata": {},
   "outputs": [],
   "source": [
    "def GetImagesGlob(rootDir, filename, extension):\n",
    "    \n",
    "    if rootDir == '':\n",
    "        return glob.glob(\".\\\\\" + filename + \"*.\" + extension)\n",
    "    else:\n",
    "        return glob.glob(rootDir + \"\\\\\" + filename + \"*.\" + extension)"
   ]
  },
  {
   "cell_type": "markdown",
   "metadata": {},
   "source": [
    "***"
   ]
  },
  {
   "cell_type": "markdown",
   "metadata": {},
   "source": [
    "## Implementation"
   ]
  },
  {
   "cell_type": "markdown",
   "metadata": {},
   "source": [
    ">This section shows the pipeline implementation using the functions defined above."
   ]
  },
  {
   "cell_type": "code",
   "execution_count": 6,
   "metadata": {
    "scrolled": false
   },
   "outputs": [],
   "source": [
    "import numpy as np\n",
    "import cv2\n",
    "import glob\n",
    "import matplotlib.pyplot as plt\n",
    "import matplotlib.image as mpimg\n",
    "import os\n",
    "\n",
    "DEBUG = True\n",
    "\n",
    "# Make a list of calibration images\n",
    "#indexes, paths, extensions, images = GetImagesOS('camera_cal', ('jpg','png'))\n",
    "\n",
    "# Step through the list and search for chessboard corners\n",
    "#print(\"Found {} images.\".format(len(paths)))\n",
    "\n",
    "vertical = 6\n",
    "horizontal = 9\n",
    "\n",
    "# Make a list of calibration images\n",
    "cal_images = glob.glob('camera_cal/calibration*.jpg')\n",
    "test_images = glob.glob('test_images//test*.jpg')\n",
    "\n",
    "imgcount = 1\n",
    "\n",
    "undist_images = Undistort(test_images, cal_images, horizontal, vertical)\n",
    "\n",
    "for undist in undist_images:\n",
    "    \n",
    "    plt.imsave(\"test_images\\\\undistorted\\\\test{}.jpg\".format(imgcount), undist)\n",
    "    imgcount += 1\n",
    "    \n",
    "    \n",
    "    \n",
    "    \n",
    "#     f, (ax1, ax2) = plt.subplots(1, 2, figsize=(24, 9))\n",
    "#     f.tight_layout()\n",
    "#     ax1.imshow(img)\n",
    "#     ax1.set_title('Original Image', fontsize=50)\n",
    "#     ax2.imshow(undistorted[currImage])\n",
    "#     ax2.set_title('Undistorted Image', fontsize=50)\n",
    "#     plt.subplots_adjust(left=0., right=1, top=0.9, bottom=0.)\n",
    "        "
   ]
  },
  {
   "cell_type": "markdown",
   "metadata": {},
   "source": [
    "***"
   ]
  },
  {
   "cell_type": "code",
   "execution_count": null,
   "metadata": {},
   "outputs": [],
   "source": []
  }
 ],
 "metadata": {
  "kernelspec": {
   "display_name": "Python 3",
   "language": "python",
   "name": "python3"
  },
  "language_info": {
   "codemirror_mode": {
    "name": "ipython",
    "version": 3
   },
   "file_extension": ".py",
   "mimetype": "text/x-python",
   "name": "python",
   "nbconvert_exporter": "python",
   "pygments_lexer": "ipython3",
   "version": "3.7.1"
  }
 },
 "nbformat": 4,
 "nbformat_minor": 2
}
