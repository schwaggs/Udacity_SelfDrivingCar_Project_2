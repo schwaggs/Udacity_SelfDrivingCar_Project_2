{
 "cells": [
  {
   "cell_type": "markdown",
   "metadata": {},
   "source": [
    "## Camera Calibration"
   ]
  },
  {
   "cell_type": "markdown",
   "metadata": {},
   "source": [
    "### Finding calibration matrix and distortion coefficients"
   ]
  },
  {
   "cell_type": "markdown",
   "metadata": {},
   "source": [
    ">This section defines functions for finding the calibration matrix and distortion coefficients of given calibration images in the ```camera_cal``` directory."
   ]
  },
  {
   "cell_type": "code",
   "execution_count": 1,
   "metadata": {},
   "outputs": [],
   "source": [
    "from enum import Enum\n",
    "\n",
    "class CoefficientsT(Enum):\n",
    "    RET=0,\n",
    "    MTX=1,\n",
    "    DIST=2\n",
    "\n",
    "coeff_ret = CoefficientsT.RET\n",
    "coeff_mtx = CoefficientsT.MTX\n",
    "coeff_dist = CoefficientsT.DIST"
   ]
  },
  {
   "cell_type": "code",
   "execution_count": 2,
   "metadata": {},
   "outputs": [],
   "source": [
    "Coefficients = {\n",
    "    coeff_ret : None,\n",
    "    coeff_mtx : None,\n",
    "    coeff_dist : None\n",
    "}"
   ]
  },
  {
   "cell_type": "code",
   "execution_count": 3,
   "metadata": {},
   "outputs": [],
   "source": [
    "def Points(images, horizontal, vertical):\n",
    "    \n",
    "    # prepare object points, like (0,0,0), (1,0,0), (2,0,0) ....,(6,5,0)\n",
    "    objp = np.zeros((vertical * horizontal, 3), np.float32)\n",
    "    objp[:,:2] = np.mgrid[0:horizontal, 0:vertical].T.reshape(-1,2)\n",
    "\n",
    "    # Arrays to store object points and image points from all the images.\n",
    "    objpoints = [] # 3d points in real world space\n",
    "    imgpoints = [] # 2d points in image plane.\n",
    "\n",
    "    img_size = None\n",
    "    \n",
    "    for img in images.values():\n",
    "        \n",
    "        # Get images\n",
    "        #img = cv2.imread(fname)\n",
    "        #gray = cv2.cvtColor(img,cv2.COLOR_BGR2GRAY)\n",
    "        gray = cv2.cvtColor(img, cv2.COLOR_RGB2GRAY)\n",
    "        img_size = (img.shape[1], img.shape[0])\n",
    "\n",
    "        # Find the chessboard corners\n",
    "        ret, corners = cv2.findChessboardCorners(gray, (horizontal, vertical), None)\n",
    "\n",
    "        # If found, add object points, image points\n",
    "        if ret == True:\n",
    "            objpoints.append(objp)\n",
    "            imgpoints.append(corners)\n",
    "\n",
    "    return img_size, objpoints, imgpoints\n",
    "    \n"
   ]
  },
  {
   "cell_type": "markdown",
   "metadata": {},
   "source": [
    "***"
   ]
  },
  {
   "cell_type": "markdown",
   "metadata": {},
   "source": [
    "### Undistortion"
   ]
  },
  {
   "cell_type": "markdown",
   "metadata": {},
   "source": [
    ">This section defines functions for undistorting an image based on the calibration discovered in the previous section."
   ]
  },
  {
   "cell_type": "code",
   "execution_count": 4,
   "metadata": {},
   "outputs": [],
   "source": [
    "def Calibrate(calImages, horizontalCount, verticalCount):\n",
    "    \n",
    "    img_size, objpoints, imgpoints = Points(calImages, horizontalCount-1, verticalCount-1)\n",
    "    ret, mtx, dist, rvecs, tvecs = cv2.calibrateCamera(objpoints, imgpoints, img_size, None, None)\n",
    "    \n",
    "    Coefficients[coeff_ret] = ret\n",
    "    Coefficients[coeff_mtx] = mtx\n",
    "    Coefficients[coeff_dist]  = dist"
   ]
  },
  {
   "cell_type": "code",
   "execution_count": 5,
   "metadata": {},
   "outputs": [],
   "source": [
    "def UndistortAll(test_images, cal_images, horizontal, vertical):\n",
    "    \n",
    "    undistorted = []\n",
    "    \n",
    "    ret, mtx, dist = Get_Matrix(cal_images, horizontal, vertical)\n",
    "    \n",
    "    for fname in test_images:\n",
    "    \n",
    "        img = cv2.cvtColor(cv2.imread(fname), cv2.COLOR_BGR2RGB)\n",
    "        dst = cv2.undistort(img, mtx, dist, None, mtx)\n",
    "\n",
    "        undistorted.append(dst)\n",
    "        \n",
    "    return undistorted\n",
    "        "
   ]
  },
  {
   "cell_type": "code",
   "execution_count": 6,
   "metadata": {},
   "outputs": [],
   "source": [
    "def UndistortLoadedImage(image):\n",
    "    return cv2.undistort(image, Coefficients[coeff_mtx], Coefficients[coeff_dist], None, Coefficients[coeff_mtx])\n",
    "    "
   ]
  },
  {
   "cell_type": "code",
   "execution_count": 7,
   "metadata": {},
   "outputs": [],
   "source": [
    "def UndistortUnloadedImage(image):\n",
    "    img = cv2.cvtColor(cv2.imread(image), cv2.COLOR_BGR2RGB)\n",
    "    return cv2.undistort(img, Coefficients[coeff_mtx], Coefficients[coeff_dist], None, Coefficients[coeff_mtx])"
   ]
  },
  {
   "cell_type": "markdown",
   "metadata": {},
   "source": [
    "***"
   ]
  },
  {
   "cell_type": "markdown",
   "metadata": {},
   "source": [
    "## Manipulation"
   ]
  },
  {
   "cell_type": "markdown",
   "metadata": {},
   "source": [
    "### Apply color and gradient thresholds"
   ]
  },
  {
   "cell_type": "markdown",
   "metadata": {},
   "source": [
    ">This section defines functions for applying color and gradient thresholds to an undistorted image to find the lane lines."
   ]
  },
  {
   "cell_type": "code",
   "execution_count": null,
   "metadata": {},
   "outputs": [],
   "source": []
  },
  {
   "cell_type": "markdown",
   "metadata": {},
   "source": [
    "***"
   ]
  },
  {
   "cell_type": "markdown",
   "metadata": {},
   "source": [
    "### Birds-eye view perspective transform"
   ]
  },
  {
   "cell_type": "markdown",
   "metadata": {},
   "source": [
    ">This section defines functions for transforming the perspective of an image to birds-eye."
   ]
  },
  {
   "cell_type": "code",
   "execution_count": null,
   "metadata": {},
   "outputs": [],
   "source": []
  },
  {
   "cell_type": "markdown",
   "metadata": {},
   "source": [
    "***"
   ]
  },
  {
   "cell_type": "markdown",
   "metadata": {},
   "source": [
    "## Find lane line pixels"
   ]
  },
  {
   "cell_type": "markdown",
   "metadata": {},
   "source": [
    "### Sliding windows"
   ]
  },
  {
   "cell_type": "markdown",
   "metadata": {},
   "source": [
    ">In this section the sliding window method of lane pixel detection is implemented."
   ]
  },
  {
   "cell_type": "code",
   "execution_count": null,
   "metadata": {},
   "outputs": [],
   "source": []
  },
  {
   "cell_type": "markdown",
   "metadata": {},
   "source": [
    "***"
   ]
  },
  {
   "cell_type": "markdown",
   "metadata": {},
   "source": [
    "### Search from prior"
   ]
  },
  {
   "cell_type": "markdown",
   "metadata": {},
   "source": [
    ">In this section the search from prior method of lane pixel detection is implemented."
   ]
  },
  {
   "cell_type": "code",
   "execution_count": null,
   "metadata": {},
   "outputs": [],
   "source": []
  },
  {
   "cell_type": "markdown",
   "metadata": {},
   "source": [
    "***"
   ]
  },
  {
   "cell_type": "markdown",
   "metadata": {},
   "source": [
    "### Convolution"
   ]
  },
  {
   "cell_type": "markdown",
   "metadata": {},
   "source": [
    ">In this section the convolution method of lane pixel detection is implemented."
   ]
  },
  {
   "cell_type": "code",
   "execution_count": null,
   "metadata": {},
   "outputs": [],
   "source": []
  },
  {
   "cell_type": "markdown",
   "metadata": {},
   "source": [
    "***"
   ]
  },
  {
   "cell_type": "markdown",
   "metadata": {},
   "source": [
    "## Polynomial Fitting"
   ]
  },
  {
   "cell_type": "markdown",
   "metadata": {},
   "source": [
    "### Fit 2nd degree polynomial to left and right lane lines"
   ]
  },
  {
   "cell_type": "markdown",
   "metadata": {},
   "source": [
    ">This section defines functions for fitting a second order polynomial to the lane pixels for left and right lanes discovered from the previous section."
   ]
  },
  {
   "cell_type": "code",
   "execution_count": null,
   "metadata": {},
   "outputs": [],
   "source": []
  },
  {
   "cell_type": "markdown",
   "metadata": {},
   "source": [
    "***"
   ]
  },
  {
   "cell_type": "markdown",
   "metadata": {},
   "source": [
    "## Lane Curvature"
   ]
  },
  {
   "cell_type": "markdown",
   "metadata": {},
   "source": [
    "### Curvature"
   ]
  },
  {
   "cell_type": "markdown",
   "metadata": {},
   "source": [
    ">**This is a description**"
   ]
  },
  {
   "cell_type": "code",
   "execution_count": null,
   "metadata": {},
   "outputs": [],
   "source": []
  },
  {
   "cell_type": "markdown",
   "metadata": {},
   "source": [
    "***"
   ]
  },
  {
   "cell_type": "markdown",
   "metadata": {},
   "source": [
    "### Center deviation"
   ]
  },
  {
   "cell_type": "markdown",
   "metadata": {},
   "source": [
    ">**This is a description**"
   ]
  },
  {
   "cell_type": "code",
   "execution_count": null,
   "metadata": {},
   "outputs": [],
   "source": []
  },
  {
   "cell_type": "markdown",
   "metadata": {},
   "source": [
    "***"
   ]
  },
  {
   "cell_type": "markdown",
   "metadata": {},
   "source": [
    "## Lane Boundary Annotation"
   ]
  },
  {
   "cell_type": "markdown",
   "metadata": {},
   "source": [
    "### Annotate lane boundaries"
   ]
  },
  {
   "cell_type": "markdown",
   "metadata": {},
   "source": [
    ">**This is a description**"
   ]
  },
  {
   "cell_type": "code",
   "execution_count": null,
   "metadata": {},
   "outputs": [],
   "source": []
  },
  {
   "cell_type": "markdown",
   "metadata": {},
   "source": [
    "***"
   ]
  },
  {
   "cell_type": "markdown",
   "metadata": {},
   "source": [
    "## Helpers"
   ]
  },
  {
   "cell_type": "markdown",
   "metadata": {},
   "source": [
    ">This section defines helper functions for various needs"
   ]
  },
  {
   "cell_type": "code",
   "execution_count": 8,
   "metadata": {},
   "outputs": [],
   "source": [
    "def GetImagesOS(rootDir, validExtensions):\n",
    "    \n",
    "    '''\n",
    "    Description: Finds all image files in the rootDir with valid extensions and returns the following dictionaries:\n",
    "                 paths - {Image filename without extension, Full path to image}\n",
    "                 extensions - {Image filename without extension, Image extension}\n",
    "                 imgs - {Image filename without extension, matplotlib.image object of the image}\n",
    "    '''\n",
    "    \n",
    "    paths = {}\n",
    "    extensions = {}\n",
    "    imgs = {}\n",
    "    indexes = []\n",
    "    \n",
    "    if(rootDir == ''):\n",
    "        files = os.listdir(\".\")\n",
    "    else:\n",
    "        files = os.listdir(rootDir)\n",
    "    \n",
    "    for file in files:\n",
    "        \n",
    "        if(rootDir == ''):\n",
    "            \n",
    "            if(os.path.isfile(\".\\\\\" + file)):\n",
    "                \n",
    "                ext = file[-3:]\n",
    "                \n",
    "                if ext in validExtensions:\n",
    "                    \n",
    "                    filename = file[:len(file)-4]\n",
    "                    indexes.append(filename)\n",
    "                    paths[filename] = \".\\\\\" + file\n",
    "                    extensions[filename] = ext\n",
    "                    imgs[filename] = mpimg.imread(\".\\\\\" + file)\n",
    "            \n",
    "        else:\n",
    "            \n",
    "            if os.path.isfile(rootDir + '\\\\' + file):\n",
    "                \n",
    "                ext = file[-3:]\n",
    "                \n",
    "                if ext in validExtensions:\n",
    "                    \n",
    "                    filename = file[:len(file)-4]\n",
    "                    indexes.append(filename)\n",
    "                    paths[filename] = rootDir + \"\\\\\" + file\n",
    "                    extensions[filename] = ext\n",
    "                    imgs[filename] = mpimg.imread(rootDir + \"\\\\\" + file)\n",
    "                    \n",
    "    return indexes, paths, extensions, imgs"
   ]
  },
  {
   "cell_type": "code",
   "execution_count": 9,
   "metadata": {},
   "outputs": [],
   "source": [
    "def GetImagesGlob(rootDir, filename, extension):\n",
    "    \n",
    "    if rootDir == '':\n",
    "        return glob.glob(\".\\\\\" + filename + \"*.\" + extension)\n",
    "    else:\n",
    "        return glob.glob(rootDir + \"\\\\\" + filename + \"*.\" + extension)"
   ]
  },
  {
   "cell_type": "markdown",
   "metadata": {},
   "source": [
    "***"
   ]
  },
  {
   "cell_type": "markdown",
   "metadata": {},
   "source": [
    "## Implementation"
   ]
  },
  {
   "cell_type": "markdown",
   "metadata": {},
   "source": [
    ">This section shows the pipeline implementation using the functions defined above."
   ]
  },
  {
   "cell_type": "code",
   "execution_count": 10,
   "metadata": {
    "scrolled": false
   },
   "outputs": [
    {
     "ename": "error",
     "evalue": "OpenCV(3.4.3) c:\\projects\\opencv-python\\opencv\\modules\\imgproc\\src\\color.hpp:255: error: (-2:Unspecified error) in function '__cdecl cv::CvtHelper<struct cv::Set<3,4,-1>,struct cv::Set<1,-1,-1>,struct cv::Set<0,2,5>,2>::CvtHelper(const class cv::_InputArray &,const class cv::_OutputArray &,int)'\n> Invalid number of channels in input image:\n>     'VScn::contains(scn)'\n> where\n>     'scn' is 1\n",
     "output_type": "error",
     "traceback": [
      "\u001b[1;31m---------------------------------------------------------------------------\u001b[0m",
      "\u001b[1;31merror\u001b[0m                                     Traceback (most recent call last)",
      "\u001b[1;32m<ipython-input-10-d2aad7f28fa1>\u001b[0m in \u001b[0;36m<module>\u001b[1;34m\u001b[0m\n\u001b[0;32m     18\u001b[0m \u001b[0mhorizontalCount\u001b[0m \u001b[1;33m=\u001b[0m \u001b[1;36m9\u001b[0m\u001b[1;33m\u001b[0m\u001b[1;33m\u001b[0m\u001b[0m\n\u001b[0;32m     19\u001b[0m \u001b[1;33m\u001b[0m\u001b[0m\n\u001b[1;32m---> 20\u001b[1;33m \u001b[0mCalibrate\u001b[0m\u001b[1;33m(\u001b[0m\u001b[0mcalImages\u001b[0m\u001b[1;33m,\u001b[0m \u001b[0mhorizontalCount\u001b[0m\u001b[1;33m,\u001b[0m \u001b[0mverticalCount\u001b[0m\u001b[1;33m)\u001b[0m\u001b[1;33m\u001b[0m\u001b[1;33m\u001b[0m\u001b[0m\n\u001b[0m\u001b[0;32m     21\u001b[0m \u001b[1;33m\u001b[0m\u001b[0m\n\u001b[0;32m     22\u001b[0m \u001b[0mundist\u001b[0m \u001b[1;33m=\u001b[0m \u001b[0mUndistortLoadedImage\u001b[0m\u001b[1;33m(\u001b[0m\u001b[0mtestImages\u001b[0m\u001b[1;33m[\u001b[0m\u001b[0mtestIndexes\u001b[0m\u001b[1;33m[\u001b[0m\u001b[1;36m0\u001b[0m\u001b[1;33m]\u001b[0m\u001b[1;33m]\u001b[0m\u001b[1;33m)\u001b[0m\u001b[1;33m\u001b[0m\u001b[1;33m\u001b[0m\u001b[0m\n",
      "\u001b[1;32m<ipython-input-4-aa8d57dfcc89>\u001b[0m in \u001b[0;36mCalibrate\u001b[1;34m(calImages, horizontalCount, verticalCount)\u001b[0m\n\u001b[0;32m      1\u001b[0m \u001b[1;32mdef\u001b[0m \u001b[0mCalibrate\u001b[0m\u001b[1;33m(\u001b[0m\u001b[0mcalImages\u001b[0m\u001b[1;33m,\u001b[0m \u001b[0mhorizontalCount\u001b[0m\u001b[1;33m,\u001b[0m \u001b[0mverticalCount\u001b[0m\u001b[1;33m)\u001b[0m\u001b[1;33m:\u001b[0m\u001b[1;33m\u001b[0m\u001b[1;33m\u001b[0m\u001b[0m\n\u001b[0;32m      2\u001b[0m \u001b[1;33m\u001b[0m\u001b[0m\n\u001b[1;32m----> 3\u001b[1;33m     \u001b[0mimg_size\u001b[0m\u001b[1;33m,\u001b[0m \u001b[0mobjpoints\u001b[0m\u001b[1;33m,\u001b[0m \u001b[0mimgpoints\u001b[0m \u001b[1;33m=\u001b[0m \u001b[0mPoints\u001b[0m\u001b[1;33m(\u001b[0m\u001b[0mcalImages\u001b[0m\u001b[1;33m,\u001b[0m \u001b[0mhorizontalCount\u001b[0m\u001b[1;33m-\u001b[0m\u001b[1;36m1\u001b[0m\u001b[1;33m,\u001b[0m \u001b[0mverticalCount\u001b[0m\u001b[1;33m-\u001b[0m\u001b[1;36m1\u001b[0m\u001b[1;33m)\u001b[0m\u001b[1;33m\u001b[0m\u001b[1;33m\u001b[0m\u001b[0m\n\u001b[0m\u001b[0;32m      4\u001b[0m     \u001b[0mret\u001b[0m\u001b[1;33m,\u001b[0m \u001b[0mmtx\u001b[0m\u001b[1;33m,\u001b[0m \u001b[0mdist\u001b[0m\u001b[1;33m,\u001b[0m \u001b[0mrvecs\u001b[0m\u001b[1;33m,\u001b[0m \u001b[0mtvecs\u001b[0m \u001b[1;33m=\u001b[0m \u001b[0mcv2\u001b[0m\u001b[1;33m.\u001b[0m\u001b[0mcalibrateCamera\u001b[0m\u001b[1;33m(\u001b[0m\u001b[0mobjpoints\u001b[0m\u001b[1;33m,\u001b[0m \u001b[0mimgpoints\u001b[0m\u001b[1;33m,\u001b[0m \u001b[0mimg_size\u001b[0m\u001b[1;33m,\u001b[0m \u001b[1;32mNone\u001b[0m\u001b[1;33m,\u001b[0m \u001b[1;32mNone\u001b[0m\u001b[1;33m)\u001b[0m\u001b[1;33m\u001b[0m\u001b[1;33m\u001b[0m\u001b[0m\n\u001b[0;32m      5\u001b[0m \u001b[1;33m\u001b[0m\u001b[0m\n",
      "\u001b[1;32m<ipython-input-3-c82fa12b6bde>\u001b[0m in \u001b[0;36mPoints\u001b[1;34m(images, horizontal, vertical)\u001b[0m\n\u001b[0;32m     16\u001b[0m         \u001b[1;31m#img = cv2.imread(fname)\u001b[0m\u001b[1;33m\u001b[0m\u001b[1;33m\u001b[0m\u001b[1;33m\u001b[0m\u001b[0m\n\u001b[0;32m     17\u001b[0m         \u001b[1;31m#gray = cv2.cvtColor(img,cv2.COLOR_BGR2GRAY)\u001b[0m\u001b[1;33m\u001b[0m\u001b[1;33m\u001b[0m\u001b[1;33m\u001b[0m\u001b[0m\n\u001b[1;32m---> 18\u001b[1;33m         \u001b[0mgray\u001b[0m \u001b[1;33m=\u001b[0m \u001b[0mcv2\u001b[0m\u001b[1;33m.\u001b[0m\u001b[0mcvtColor\u001b[0m\u001b[1;33m(\u001b[0m\u001b[0mimg\u001b[0m\u001b[1;33m,\u001b[0m \u001b[0mcv2\u001b[0m\u001b[1;33m.\u001b[0m\u001b[0mCOLOR_RGB2GRAY\u001b[0m\u001b[1;33m)\u001b[0m\u001b[1;33m\u001b[0m\u001b[1;33m\u001b[0m\u001b[0m\n\u001b[0m\u001b[0;32m     19\u001b[0m         \u001b[0mimg_size\u001b[0m \u001b[1;33m=\u001b[0m \u001b[1;33m(\u001b[0m\u001b[0mimg\u001b[0m\u001b[1;33m.\u001b[0m\u001b[0mshape\u001b[0m\u001b[1;33m[\u001b[0m\u001b[1;36m1\u001b[0m\u001b[1;33m]\u001b[0m\u001b[1;33m,\u001b[0m \u001b[0mimg\u001b[0m\u001b[1;33m.\u001b[0m\u001b[0mshape\u001b[0m\u001b[1;33m[\u001b[0m\u001b[1;36m0\u001b[0m\u001b[1;33m]\u001b[0m\u001b[1;33m)\u001b[0m\u001b[1;33m\u001b[0m\u001b[1;33m\u001b[0m\u001b[0m\n\u001b[0;32m     20\u001b[0m \u001b[1;33m\u001b[0m\u001b[0m\n",
      "\u001b[1;31merror\u001b[0m: OpenCV(3.4.3) c:\\projects\\opencv-python\\opencv\\modules\\imgproc\\src\\color.hpp:255: error: (-2:Unspecified error) in function '__cdecl cv::CvtHelper<struct cv::Set<3,4,-1>,struct cv::Set<1,-1,-1>,struct cv::Set<0,2,5>,2>::CvtHelper(const class cv::_InputArray &,const class cv::_OutputArray &,int)'\n> Invalid number of channels in input image:\n>     'VScn::contains(scn)'\n> where\n>     'scn' is 1\n"
     ]
    }
   ],
   "source": [
    "import numpy as np\n",
    "import cv2\n",
    "import glob\n",
    "import matplotlib.pyplot as plt\n",
    "import matplotlib.image as mpimg\n",
    "import os\n",
    "\n",
    "# Calibrate camera\n",
    "# From calibration images\n",
    "verticalCount = 7\n",
    "horizontalCount = 9\n",
    "\n",
    "# Make a list of calibration images\n",
    "calIndexes, calPaths, calExtensions, calImages = GetImagesOS('camera_cal', ('jpg', 'png'))\n",
    "testIndexes, testPaths, testExtensions, testImages = GetImagesOS('test_images', ('jpg', 'png'))\n",
    "\n",
    "verticalCount = 7\n",
    "horizontalCount = 9\n",
    "\n",
    "Calibrate(calImages, horizontalCount, verticalCount)\n",
    "\n",
    "undist = UndistortLoadedImage(testImages[testIndexes[0]])\n",
    "plt.imshow(undist)\n",
    "plt.show()\n",
    "\n",
    "# Make a list of calibration images\n",
    "#cal_images = glob.glob('camera_cal/calibration*.jpg')\n",
    "#test_images = glob.glob('test_images//test*.jpg')\n",
    "\n",
    "#imgcount = 1\n",
    "\n",
    "#undist_images = Undistort(test_images, cal_images, horizontal, vertical)\n",
    "\n",
    "#for undist in undist_images:\n",
    "    \n",
    "    #plt.imsave(\"test_images\\\\undistorted\\\\test{}.jpg\".format(imgcount), undist)\n",
    "    #imgcount += 1\n",
    "    \n",
    "    \n",
    "    \n",
    "    \n",
    "#     f, (ax1, ax2) = plt.subplots(1, 2, figsize=(24, 9))\n",
    "#     f.tight_layout()\n",
    "#     ax1.imshow(img)\n",
    "#     ax1.set_title('Original Image', fontsize=50)\n",
    "#     ax2.imshow(undistorted[currImage])\n",
    "#     ax2.set_title('Undistorted Image', fontsize=50)\n",
    "#     plt.subplots_adjust(left=0., right=1, top=0.9, bottom=0.)\n",
    "        "
   ]
  },
  {
   "cell_type": "markdown",
   "metadata": {},
   "source": [
    "***"
   ]
  },
  {
   "cell_type": "code",
   "execution_count": null,
   "metadata": {},
   "outputs": [],
   "source": []
  }
 ],
 "metadata": {
  "kernelspec": {
   "display_name": "Python 3",
   "language": "python",
   "name": "python3"
  },
  "language_info": {
   "codemirror_mode": {
    "name": "ipython",
    "version": 3
   },
   "file_extension": ".py",
   "mimetype": "text/x-python",
   "name": "python",
   "nbconvert_exporter": "python",
   "pygments_lexer": "ipython3",
   "version": "3.7.1"
  }
 },
 "nbformat": 4,
 "nbformat_minor": 2
}
